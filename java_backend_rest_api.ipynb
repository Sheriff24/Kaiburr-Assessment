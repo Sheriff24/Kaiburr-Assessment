{
 "cells": [
  {
   "cell_type": "markdown",
   "id": "b86fd292",
   "metadata": {},
   "source": [
    "# Java Backend REST API with Spring Boot and MongoDB\n",
    "This notebook contains a step-by-step implementation of a REST API for managing task objects."
   ]
  },
  {
   "cell_type": "markdown",
   "id": "7e39a97d",
   "metadata": {},
   "source": [
    "## 1. Project Setup\n",
    "Install required dependencies (Spring Boot, MongoDB)."
   ]
  },
  {
   "cell_type": "code",
   "execution_count": null,
   "id": "6a744339",
   "metadata": {},
   "outputs": [],
   "source": [
    "\n",
    "<dependency>\n",
    "    <groupId>org.springframework.boot</groupId>\n",
    "    <artifactId>spring-boot-starter-web</artifactId>\n",
    "</dependency>\n",
    "\n",
    "<dependency>\n",
    "    <groupId>org.springframework.boot</groupId>\n",
    "    <artifactId>spring-boot-starter-data-mongodb</artifactId>\n",
    "</dependency>\n",
    "    "
   ]
  },
  {
   "cell_type": "markdown",
   "id": "fff41487",
   "metadata": {},
   "source": [
    "## 2. Define Model Classes"
   ]
  },
  {
   "cell_type": "code",
   "execution_count": null,
   "id": "3c51274f",
   "metadata": {},
   "outputs": [],
   "source": [
    "\n",
    "// TaskExecution.java\n",
    "import java.util.Date;\n",
    "\n",
    "public class TaskExecution {\n",
    "    private Date startTime;\n",
    "    private Date endTime;\n",
    "    private String output;\n",
    "\n",
    "    // Constructors, Getters and Setters\n",
    "}\n",
    "    "
   ]
  },
  {
   "cell_type": "code",
   "execution_count": null,
   "id": "db51aeb0",
   "metadata": {},
   "outputs": [],
   "source": [
    "\n",
    "// Task.java\n",
    "import org.springframework.data.annotation.Id;\n",
    "import org.springframework.data.mongodb.core.mapping.Document;\n",
    "import java.util.List;\n",
    "\n",
    "@Document(collection = \"tasks\")\n",
    "public class Task {\n",
    "    @Id\n",
    "    private String id;\n",
    "    private String name;\n",
    "    private String owner;\n",
    "    private String command;\n",
    "    private List<TaskExecution> taskExecutions;\n",
    "\n",
    "    // Constructors, Getters and Setters\n",
    "}\n",
    "    "
   ]
  },
  {
   "cell_type": "markdown",
   "id": "20aeab5d",
   "metadata": {},
   "source": [
    "## 3. Create Repository Interface"
   ]
  },
  {
   "cell_type": "code",
   "execution_count": null,
   "id": "8ea33db9",
   "metadata": {},
   "outputs": [],
   "source": [
    "\n",
    "// TaskRepository.java\n",
    "import org.springframework.data.mongodb.repository.MongoRepository;\n",
    "import java.util.List;\n",
    "\n",
    "public interface TaskRepository extends MongoRepository<Task, String> {\n",
    "    List<Task> findByNameContaining(String name);\n",
    "}\n",
    "    "
   ]
  },
  {
   "cell_type": "markdown",
   "id": "2c679c1d",
   "metadata": {},
   "source": [
    "## 4. Implement Service Layer"
   ]
  },
  {
   "cell_type": "code",
   "execution_count": null,
   "id": "f43b0561",
   "metadata": {},
   "outputs": [],
   "source": [
    "\n",
    "// TaskService.java\n",
    "import org.springframework.beans.factory.annotation.Autowired;\n",
    "import org.springframework.stereotype.Service;\n",
    "import java.util.List;\n",
    "import java.util.Optional;\n",
    "\n",
    "@Service\n",
    "public class TaskService {\n",
    "    @Autowired\n",
    "    private TaskRepository taskRepository;\n",
    "\n",
    "    public List<Task> getAllTasks() {\n",
    "        return taskRepository.findAll();\n",
    "    }\n",
    "\n",
    "    public Optional<Task> getTaskById(String id) {\n",
    "        return taskRepository.findById(id);\n",
    "    }\n",
    "\n",
    "    public List<Task> searchTasksByName(String name) {\n",
    "        return taskRepository.findByNameContaining(name);\n",
    "    }\n",
    "\n",
    "    public Task saveTask(Task task) {\n",
    "        return taskRepository.save(task);\n",
    "    }\n",
    "\n",
    "    public void deleteTask(String id) {\n",
    "        taskRepository.deleteById(id);\n",
    "    }\n",
    "}\n",
    "    "
   ]
  },
  {
   "cell_type": "markdown",
   "id": "491eb53f",
   "metadata": {},
   "source": [
    "## 5. Implement Controller Layer"
   ]
  },
  {
   "cell_type": "code",
   "execution_count": null,
   "id": "8153be58",
   "metadata": {},
   "outputs": [],
   "source": [
    "\n",
    "// TaskController.java\n",
    "import org.springframework.beans.factory.annotation.Autowired;\n",
    "import org.springframework.web.bind.annotation.*;\n",
    "import java.util.List;\n",
    "import java.util.Optional;\n",
    "\n",
    "@RestController\n",
    "@RequestMapping(\"/tasks\")\n",
    "public class TaskController {\n",
    "    @Autowired\n",
    "    private TaskService taskService;\n",
    "\n",
    "    @GetMapping\n",
    "    public List<Task> getAllTasks() {\n",
    "        return taskService.getAllTasks();\n",
    "    }\n",
    "\n",
    "    @GetMapping(\"/{id}\")\n",
    "    public Optional<Task> getTaskById(@PathVariable String id) {\n",
    "        return taskService.getTaskById(id);\n",
    "    }\n",
    "\n",
    "    @GetMapping(\"/search\")\n",
    "    public List<Task> searchTasksByName(@RequestParam String name) {\n",
    "        return taskService.searchTasksByName(name);\n",
    "    }\n",
    "\n",
    "    @PutMapping\n",
    "    public Task saveTask(@RequestBody Task task) {\n",
    "        return taskService.saveTask(task);\n",
    "    }\n",
    "\n",
    "    @DeleteMapping(\"/{id}\")\n",
    "    public void deleteTask(@PathVariable String id) {\n",
    "        taskService.deleteTask(id);\n",
    "    }\n",
    "}\n",
    "    "
   ]
  },
  {
   "cell_type": "markdown",
   "id": "e954b3e2",
   "metadata": {},
   "source": [
    "## 6. Running the Application"
   ]
  },
  {
   "cell_type": "code",
   "execution_count": null,
   "id": "6d33c8a6",
   "metadata": {},
   "outputs": [],
   "source": [
    "mvn spring-boot:run"
   ]
  },
  {
   "cell_type": "markdown",
   "id": "cbf3458a",
   "metadata": {},
   "source": [
    "## 7. Testing the API with Postman/cURL"
   ]
  },
  {
   "cell_type": "code",
   "execution_count": null,
   "id": "a3dae48e",
   "metadata": {},
   "outputs": [],
   "source": [
    "\n",
    "# Get all tasks\n",
    "curl -X GET http://localhost:8080/tasks\n",
    "\n",
    "# Create a new task\n",
    "curl -X PUT http://localhost:8080/tasks -H \"Content-Type: application/json\" -d '\n",
    "{\n",
    "    \"id\": \"123\",\n",
    "    \"name\": \"Print Hello\",\n",
    "    \"owner\": \"John Smith\",\n",
    "    \"command\": \"echo Hello World!\"\n",
    "}'\n",
    "\n",
    "# Search task by name\n",
    "curl -X GET http://localhost:8080/tasks/search?name=Print\n",
    "\n",
    "# Delete a task\n",
    "curl -X DELETE http://localhost:8080/tasks/123\n",
    "    "
   ]
  }
 ],
 "metadata": {},
 "nbformat": 4,
 "nbformat_minor": 5
}